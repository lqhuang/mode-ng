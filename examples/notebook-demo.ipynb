{
 "cells": [
  {
   "cell_type": "code",
   "execution_count": 1,
   "id": "b48e6d72-b01c-45d4-99f7-e573d94878aa",
   "metadata": {},
   "outputs": [],
   "source": [
    "%load_ext autoreload\n",
    "%autoreload 2"
   ]
  },
  {
   "cell_type": "code",
   "execution_count": 2,
   "id": "0473b39e-9dc2-404e-8179-b86a69ba8185",
   "metadata": {},
   "outputs": [],
   "source": [
    "from mode import Worker, Service"
   ]
  },
  {
   "cell_type": "code",
   "execution_count": 3,
   "id": "614da9df",
   "metadata": {},
   "outputs": [],
   "source": [
    "class SubService(Service):\n",
    "    async def on_started(self) -> None:\n",
    "        self.log.info(\"Service started (hit ctrl+C to exit).\")\n",
    "\n",
    "    @Service.task\n",
    "    async def _background_task(self) -> None:\n",
    "        print(\"SubService BACKGROUND TASK STARTING\")\n",
    "        t = 0.0\n",
    "        while not self.should_stop and t < 10.0:\n",
    "            await self.sleep(1.0)\n",
    "            t += 1.0\n",
    "            print(f\"{self._repr_name()} SERVICE WAKING UP, current {t=} \")\n",
    "\n",
    "\n",
    "class MyService(Service):\n",
    "    async def on_started(self) -> None:\n",
    "        self.log.info(\"Service started (hit ctrl+C to exit).\")\n",
    "\n",
    "    @Service.task\n",
    "    async def _background_task(self) -> None:\n",
    "        print(\"BACKGROUND TASK STARTING\")\n",
    "        t = 0.0\n",
    "        while not self.should_stop and t < 5.0:\n",
    "            await self.sleep(1.0)\n",
    "            t += 1.0\n",
    "            print(f\"BACKGROUND SERVICE WAKING UP, current {t=}\")\n",
    "        print(\"job done\")\n",
    "\n",
    "    def on_init_dependencies(self):\n",
    "        return [SubService()]"
   ]
  },
  {
   "cell_type": "code",
   "execution_count": 4,
   "id": "8f69e526-35a9-4681-ac3e-5bf7343bb9c0",
   "metadata": {},
   "outputs": [
    {
     "name": "stderr",
     "output_type": "stream",
     "text": [
      "[2024-05-07T15:04:50.728+08:00] [2909308:140349493948480] [INFO]: [^Worker]: Starting... \n",
      "[2024-05-07T15:04:50.729+08:00] [2909308:140349493948480] [INFO]: [^-MyService]: Starting... \n",
      "[2024-05-07T15:04:50.730+08:00] [2909308:140349493948480] [INFO]: [^--SubService]: Starting... \n",
      "[2024-05-07T15:04:50.731+08:00] [2909308:140349493948480] [INFO]: [^--SubService]: Service started (hit ctrl+C to exit). \n",
      "[2024-05-07T15:04:50.732+08:00] [2909308:140349493948480] [INFO]: [^-MyService]: Service started (hit ctrl+C to exit). \n",
      "[2024-05-07T15:04:50.733+08:00] [2909308:140349493948480] [WARNING]: BACKGROUND TASK STARTING \n",
      "[2024-05-07T15:04:50.734+08:00] [2909308:140349493948480] [WARNING]: SubService BACKGROUND TASK STARTING \n"
     ]
    },
    {
     "name": "stderr",
     "output_type": "stream",
     "text": [
      "[2024-05-07T15:04:51.735+08:00] [2909308:140349493948480] [WARNING]: BACKGROUND SERVICE WAKING UP, current t=1.0 \n",
      "[2024-05-07T15:04:51.737+08:00] [2909308:140349493948480] [WARNING]: SubService SERVICE WAKING UP, current t=1.0 \n",
      "[2024-05-07T15:04:52.737+08:00] [2909308:140349493948480] [WARNING]: BACKGROUND SERVICE WAKING UP, current t=2.0 \n",
      "[2024-05-07T15:04:52.739+08:00] [2909308:140349493948480] [WARNING]: SubService SERVICE WAKING UP, current t=2.0 \n",
      "[2024-05-07T15:04:53.739+08:00] [2909308:140349493948480] [WARNING]: BACKGROUND SERVICE WAKING UP, current t=3.0 \n",
      "[2024-05-07T15:04:53.740+08:00] [2909308:140349493948480] [WARNING]: SubService SERVICE WAKING UP, current t=3.0 \n",
      "[2024-05-07T15:04:54.741+08:00] [2909308:140349493948480] [WARNING]: BACKGROUND SERVICE WAKING UP, current t=4.0 \n",
      "[2024-05-07T15:04:54.743+08:00] [2909308:140349493948480] [WARNING]: SubService SERVICE WAKING UP, current t=4.0 \n",
      "[2024-05-07T15:04:55.744+08:00] [2909308:140349493948480] [WARNING]: BACKGROUND SERVICE WAKING UP, current t=5.0 \n",
      "[2024-05-07T15:04:55.745+08:00] [2909308:140349493948480] [WARNING]: job done \n",
      "[2024-05-07T15:04:55.746+08:00] [2909308:140349493948480] [WARNING]: SubService SERVICE WAKING UP, current t=5.0 \n",
      "[2024-05-07T15:04:56.748+08:00] [2909308:140349493948480] [WARNING]: SubService SERVICE WAKING UP, current t=6.0 \n",
      "[2024-05-07T15:04:57.749+08:00] [2909308:140349493948480] [WARNING]: SubService SERVICE WAKING UP, current t=7.0 \n",
      "[2024-05-07T15:04:58.751+08:00] [2909308:140349493948480] [WARNING]: SubService SERVICE WAKING UP, current t=8.0 \n",
      "[2024-05-07T15:04:59.754+08:00] [2909308:140349493948480] [WARNING]: SubService SERVICE WAKING UP, current t=9.0 \n",
      "[2024-05-07T15:05:00.757+08:00] [2909308:140349493948480] [WARNING]: SubService SERVICE WAKING UP, current t=10.0 \n",
      "[2024-05-07T15:05:00.769+08:00] [2909308:140349493948480] [INFO]: [^--SubService]: Stopping... \n",
      "[2024-05-07T15:05:00.770+08:00] [2909308:140349493948480] [INFO]: [^--SubService]: Stopped! \n",
      "[2024-05-07T15:05:00.771+08:00] [2909308:140349493948480] [INFO]: [^-MyService]: Stopping... \n",
      "[2024-05-07T15:05:00.772+08:00] [2909308:140349493948480] [INFO]: [^-MyService]: Stopped! \n",
      "[2024-05-07T15:05:00.774+08:00] [2909308:140349493948480] [INFO]: [^Worker]: Signal received: 2 (2) \n",
      "[2024-05-07T15:05:00.775+08:00] [2909308:140349493948480] [INFO]: [^Worker]: Stopping... \n",
      "[2024-05-07T15:05:00.776+08:00] [2909308:140349493948480] [INFO]: [^Worker]: Gathering service tasks... \n"
     ]
    }
   ],
   "source": [
    "worker = Worker(\n",
    "    MyService(),\n",
    "    log_level=\"INFO\",\n",
    "    log_file=None,\n",
    "    daemon=False,\n",
    ")\n",
    "fut = worker.start_system()\n",
    "await worker.join()"
   ]
  },
  {
   "cell_type": "code",
   "execution_count": null,
   "id": "36d38e13-ee7e-4d0b-a308-a66fdc7ab1fc",
   "metadata": {},
   "outputs": [
    {
     "name": "stderr",
     "output_type": "stream",
     "text": [
      "[2024-05-07T15:05:00.781+08:00] [2909308:140349493948480] [INFO]: [^Worker]: Stopped! \n",
      "[2024-05-07T15:05:00.811+08:00] [2909308:140349493948480] [INFO]: [^Worker]: Starting... \n",
      "[2024-05-07T15:05:00.811+08:00] [2909308:140349493948480] [INFO]: [^-MyService]: Starting... \n",
      "[2024-05-07T15:05:00.811+08:00] [2909308:140349493948480] [INFO]: [^--SubService]: Starting... \n",
      "[2024-05-07T15:05:00.811+08:00] [2909308:140349493948480] [INFO]: [^--SubService]: Service started (hit ctrl+C to exit). \n",
      "[2024-05-07T15:05:00.812+08:00] [2909308:140349493948480] [INFO]: [^-MyService]: Service started (hit ctrl+C to exit). \n",
      "[2024-05-07T15:05:00.813+08:00] [2909308:140349493948480] [WARNING]: BACKGROUND TASK STARTING \n",
      "[2024-05-07T15:05:00.813+08:00] [2909308:140349493948480] [WARNING]: SubService BACKGROUND TASK STARTING \n",
      "[2024-05-07T15:05:01.814+08:00] [2909308:140349493948480] [WARNING]: BACKGROUND SERVICE WAKING UP, current t=1.0 \n",
      "[2024-05-07T15:05:01.814+08:00] [2909308:140349493948480] [WARNING]: SubService SERVICE WAKING UP, current t=1.0 \n",
      "[2024-05-07T15:05:02.815+08:00] [2909308:140349493948480] [WARNING]: BACKGROUND SERVICE WAKING UP, current t=2.0 \n",
      "[2024-05-07T15:05:02.816+08:00] [2909308:140349493948480] [WARNING]: SubService SERVICE WAKING UP, current t=2.0 \n",
      "[2024-05-07T15:05:03.816+08:00] [2909308:140349493948480] [WARNING]: BACKGROUND SERVICE WAKING UP, current t=3.0 \n",
      "[2024-05-07T15:05:03.816+08:00] [2909308:140349493948480] [WARNING]: SubService SERVICE WAKING UP, current t=3.0 \n",
      "[2024-05-07T15:05:04.817+08:00] [2909308:140349493948480] [WARNING]: BACKGROUND SERVICE WAKING UP, current t=4.0 \n",
      "[2024-05-07T15:05:04.817+08:00] [2909308:140349493948480] [WARNING]: SubService SERVICE WAKING UP, current t=4.0 \n",
      "[2024-05-07T15:05:05.818+08:00] [2909308:140349493948480] [WARNING]: BACKGROUND SERVICE WAKING UP, current t=5.0 \n",
      "[2024-05-07T15:05:05.818+08:00] [2909308:140349493948480] [WARNING]: job done \n",
      "[2024-05-07T15:05:05.818+08:00] [2909308:140349493948480] [WARNING]: SubService SERVICE WAKING UP, current t=5.0 \n",
      "[2024-05-07T15:05:06.819+08:00] [2909308:140349493948480] [WARNING]: SubService SERVICE WAKING UP, current t=6.0 \n",
      "[2024-05-07T15:05:07.821+08:00] [2909308:140349493948480] [WARNING]: SubService SERVICE WAKING UP, current t=7.0 \n",
      "[2024-05-07T15:05:08.822+08:00] [2909308:140349493948480] [WARNING]: SubService SERVICE WAKING UP, current t=8.0 \n",
      "[2024-05-07T15:05:09.824+08:00] [2909308:140349493948480] [WARNING]: SubService SERVICE WAKING UP, current t=9.0 \n",
      "[2024-05-07T15:05:10.826+08:00] [2909308:140349493948480] [WARNING]: SubService SERVICE WAKING UP, current t=10.0 \n",
      "[2024-05-07T15:05:10.837+08:00] [2909308:140349493948480] [INFO]: [^--SubService]: Stopping... \n",
      "[2024-05-07T15:05:10.837+08:00] [2909308:140349493948480] [INFO]: [^--SubService]: Stopped! \n",
      "[2024-05-07T15:05:10.838+08:00] [2909308:140349493948480] [INFO]: [^-MyService]: Stopping... \n",
      "[2024-05-07T15:05:10.838+08:00] [2909308:140349493948480] [INFO]: [^-MyService]: Stopped! \n",
      "[2024-05-07T15:05:10.838+08:00] [2909308:140349493948480] [INFO]: [^Worker]: Signal received: 2 (2) \n",
      "[2024-05-07T15:05:10.838+08:00] [2909308:140349493948480] [INFO]: [^Worker]: Stopping... \n",
      "[2024-05-07T15:05:10.838+08:00] [2909308:140349493948480] [INFO]: [^Worker]: Gathering service tasks... \n",
      "[2024-05-07T15:05:10.842+08:00] [2909308:140349493948480] [INFO]: [^Worker]: Stopped! \n"
     ]
    }
   ],
   "source": [
    "worker = Worker(\n",
    "    MyService(),\n",
    "    log_level=\"INFO\",\n",
    "    log_file=None,\n",
    "    daemon=False,\n",
    ")\n",
    "fut = worker.start_system()\n",
    "await worker.join()"
   ]
  }
 ],
 "metadata": {
  "kernelspec": {
   "display_name": "Python 3 (ipykernel)",
   "language": "python",
   "name": "python3"
  },
  "language_info": {
   "codemirror_mode": {
    "name": "ipython",
    "version": 3
   },
   "file_extension": ".py",
   "mimetype": "text/x-python",
   "name": "python",
   "nbconvert_exporter": "python",
   "pygments_lexer": "ipython3",
   "version": "3.11.8"
  }
 },
 "nbformat": 4,
 "nbformat_minor": 5
}
